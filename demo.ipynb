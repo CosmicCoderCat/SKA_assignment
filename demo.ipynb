{
 "cells": [
  {
   "cell_type": "markdown",
   "id": "5c823e91",
   "metadata": {},
   "source": [
    "---"
   ]
  },
  {
   "cell_type": "markdown",
   "id": "a42c639a",
   "metadata": {},
   "source": [
    "# Data Quality Assessment Package Demo"
   ]
  },
  {
   "cell_type": "markdown",
   "id": "5477fec8",
   "metadata": {},
   "source": [
    "Import packages"
   ]
  },
  {
   "cell_type": "code",
   "execution_count": null,
   "id": "d8221f4c",
   "metadata": {},
   "outputs": [],
   "source": [
    "from SKA_assignment.data_handler import DataHandler\n",
    "from SKA_assignment.analysing import monitor_data_quality_over_time, visualize_data\n",
    "from SKA_assignment.plotting import plot_amplitude_vs_time\n",
    "from SKA_assignment.utils import get_combined_masks, get_binned_visibility_amplitude"
   ]
  },
  {
   "cell_type": "markdown",
   "id": "24109f93",
   "metadata": {},
   "source": [
    "Read in the data"
   ]
  },
  {
   "cell_type": "code",
   "execution_count": null,
   "id": "b94d867e",
   "metadata": {},
   "outputs": [],
   "source": [
    "data_handler = DataHandler(\"pipeline_problem_data.ms\")"
   ]
  },
  {
   "cell_type": "markdown",
   "id": "4a068771",
   "metadata": {},
   "source": [
    "Image the 'unprocessed' data"
   ]
  },
  {
   "cell_type": "code",
   "execution_count": null,
   "id": "a4b445f0",
   "metadata": {},
   "outputs": [],
   "source": [
    "# Plot all data in one dirty and one clean image.\n",
    "visualize_data(data_handler, first_t_frame=0, nb_t_steps=1, t_step=120, first_freq_step=0, n_freq_steps=1, freq_step=32, vmin=-20000, vmax=200000)"
   ]
  },
  {
   "cell_type": "markdown",
   "id": "eaaaffed",
   "metadata": {},
   "source": [
    "There seems to be an interesting feature on the sky, perhaps a new SKAO supernova remnant?\n",
    "\n",
    "Let's try to see it clearer. Perhaps it is brighter in a subset of the band?"
   ]
  },
  {
   "cell_type": "code",
   "execution_count": null,
   "id": "fccb45b7",
   "metadata": {},
   "outputs": [],
   "source": [
    "# Plot each frequency channel in a separate set of dirty and clean images.\n",
    "visualize_data(data_handler, first_t_frame=0, nb_t_steps=1, t_step=120, first_freq_step=0, n_freq_steps=32, freq_step=1, vmin=-20000, vmax=20000)"
   ]
  },
  {
   "cell_type": "markdown",
   "id": "a0972a25",
   "metadata": {},
   "source": [
    "Channel 30 looks a bit suspect and would warant extra investigation, but no obvious signature of the SKAO feature in only a subset of channels.\n",
    "\n",
    "Perhaps it is a transient signal?"
   ]
  },
  {
   "cell_type": "code",
   "execution_count": null,
   "id": "f0ed44ca",
   "metadata": {},
   "outputs": [],
   "source": [
    "# Plot a subset of time frames in a separate set of dirty and clean images.\n",
    "visualize_data(data_handler, first_t_frame=45, nb_t_steps=10, t_step=1, first_freq_step=0, n_freq_steps=1, freq_step=32, vmin=-20000, vmax=20000)"
   ]
  },
  {
   "cell_type": "markdown",
   "id": "f93d6952",
   "metadata": {},
   "source": [
    "Interesting, SKAO shines bright in the 48th timeframe.\n",
    "\n",
    "There's also something funny happening in the 50th timeframe.\n",
    "\n",
    "Let's look at a plot of average visibility amplitude over time"
   ]
  },
  {
   "cell_type": "code",
   "execution_count": null,
   "id": "79cea2e4",
   "metadata": {},
   "outputs": [],
   "source": [
    "first_freq_step = 0\n",
    "n_freq_steps = 32\n",
    "freq_step = 1\n",
    "first_t_frame = 0\n",
    "nb_t_steps = 120\n",
    "t_step = 1\n",
    "\n",
    "# Unpack data from the DataHandler\n",
    "time_all = data_handler.time_all\n",
    "autocorr_filter = data_handler.get_autocorr_filter()\n",
    "vis = data_handler.get_visibilities()\n",
    "unique_times = data_handler.get_times()\n",
    "dt = data_handler.get_time_step()\n",
    "\n",
    "combined_masks = get_combined_masks(\n",
    "    time_all, unique_times, dt, autocorr_filter, first_t_frame, nb_t_steps, t_step\n",
    ")\n",
    "binned_amplitude = get_binned_visibility_amplitude(\n",
    "    vis, combined_masks, first_freq_step, n_freq_steps, freq_step\n",
    ")\n",
    "\n",
    "# Plot results for each frequency\n",
    "for i in range(n_freq_steps):\n",
    "    title = f\"Time Series of Visibility Amplitude for Channel {first_freq_step + i * freq_step}\"\n",
    "    filename = (\n",
    "        f\"amplitude_vs_time_channel_{first_freq_step + i * freq_step}.png\"\n",
    "    )\n",
    "    plot_amplitude_vs_time(\n",
    "        binned_amplitude[i, :],\n",
    "        range(first_t_frame, first_t_frame + nb_t_steps),\n",
    "        title,\n",
    "        filename,\n",
    "        save=False\n",
    "    )"
   ]
  },
  {
   "cell_type": "markdown",
   "id": "a8378b63",
   "metadata": {},
   "source": [
    "A lot of interesting features!\n",
    "\n",
    "Let's see if we can remove the systematic peaks and the SKAO peak."
   ]
  },
  {
   "cell_type": "code",
   "execution_count": null,
   "id": "328a892f",
   "metadata": {},
   "outputs": [],
   "source": [
    "outliers = monitor_data_quality_over_time(data_handler, generate_plots=True, save_plots=False, flag_multiplier=10)"
   ]
  },
  {
   "cell_type": "markdown",
   "id": "c14b150d",
   "metadata": {},
   "source": [
    "As a reminder, this is where we started from"
   ]
  },
  {
   "cell_type": "code",
   "execution_count": null,
   "id": "6594f829",
   "metadata": {},
   "outputs": [],
   "source": [
    "# Plot all data in one dirty and one clean image.\n",
    "visualize_data(data_handler, first_t_frame=0, nb_t_steps=1, t_step=120, first_freq_step=0, n_freq_steps=1, freq_step=32, vmin=-20000, vmax=200000)"
   ]
  },
  {
   "cell_type": "markdown",
   "id": "58f7621b",
   "metadata": {},
   "source": [
    "So how does this do? Let's image the visibilities without the flagged outliers"
   ]
  },
  {
   "cell_type": "code",
   "execution_count": null,
   "id": "3fe011cd",
   "metadata": {},
   "outputs": [],
   "source": [
    "visualize_data(data_handler, flags=outliers, first_t_frame=0, nb_t_steps=1, t_step=120, first_freq_step=0, n_freq_steps=1, freq_step=32, vmin=-20000, vmax=200000)"
   ]
  },
  {
   "cell_type": "markdown",
   "id": "832bda86",
   "metadata": {},
   "source": [
    "Many more things to do:\n",
    "- Analysis:\n",
    "    - Plot visibilities per antenna\n",
    "    - Plot visibilities per baseline\n",
    "    - Plot visibilities vs frequency (channel 31 warants extra investigation)\n",
    "- Code:\n",
    "    - Output flags to FLAG data column\n",
    "    - Some optimization inbuilt from using numpy and scipy but some code \n",
    "    could be refactored too\n",
    "    - Add more tests\n",
    "    - Create doxygen documentation\n",
    "    - Add a dockerfile to run the analysis in a container"
   ]
  }
 ],
 "metadata": {
  "language_info": {
   "name": "python"
  }
 },
 "nbformat": 4,
 "nbformat_minor": 5
}
